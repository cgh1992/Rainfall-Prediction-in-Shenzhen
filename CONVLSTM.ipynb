{
  "nbformat": 4,
  "nbformat_minor": 0,
  "metadata": {
    "colab": {
      "name": "CONVLSTM.ipynb",
      "provenance": [],
      "machine_shape": "hm",
      "authorship_tag": "ABX9TyMoHDd7zmtqlutA451ojvb9",
      "include_colab_link": true
    },
    "kernelspec": {
      "name": "python3",
      "display_name": "Python 3"
    },
    "accelerator": "GPU"
  },
  "cells": [
    {
      "cell_type": "markdown",
      "metadata": {
        "id": "view-in-github",
        "colab_type": "text"
      },
      "source": [
        "<a href=\"https://colab.research.google.com/github/cgh1992/Rainfall-Prediction-in-Shenzhen/blob/master/CONVLSTM.ipynb\" target=\"_parent\"><img src=\"https://colab.research.google.com/assets/colab-badge.svg\" alt=\"Open In Colab\"/></a>"
      ]
    },
    {
      "cell_type": "code",
      "metadata": {
        "id": "fHfQsKJkqWU9",
        "colab_type": "code",
        "colab": {
          "base_uri": "https://localhost:8080/",
          "height": 121
        },
        "outputId": "43792826-ab33-4379-927d-8f300857e7dd"
      },
      "source": [
        "from google.colab import drive\n",
        "drive.mount('/content/drive')"
      ],
      "execution_count": null,
      "outputs": [
        {
          "output_type": "stream",
          "text": [
            "Go to this URL in a browser: https://accounts.google.com/o/oauth2/auth?client_id=947318989803-6bn6qk8qdgf4n4g3pfee6491hc0brc4i.apps.googleusercontent.com&redirect_uri=urn%3aietf%3awg%3aoauth%3a2.0%3aoob&scope=email%20https%3a%2f%2fwww.googleapis.com%2fauth%2fdocs.test%20https%3a%2f%2fwww.googleapis.com%2fauth%2fdrive%20https%3a%2f%2fwww.googleapis.com%2fauth%2fdrive.photos.readonly%20https%3a%2f%2fwww.googleapis.com%2fauth%2fpeopleapi.readonly&response_type=code\n",
            "\n",
            "Enter your authorization code:\n",
            "··········\n",
            "Mounted at /content/drive\n"
          ],
          "name": "stdout"
        }
      ]
    },
    {
      "cell_type": "code",
      "metadata": {
        "id": "mGV96t4dkP8V",
        "colab_type": "code",
        "colab": {}
      },
      "source": [
        "  \n",
        "import pandas as pd\n",
        "import numpy as np\n"
      ],
      "execution_count": null,
      "outputs": []
    },
    {
      "cell_type": "code",
      "metadata": {
        "id": "_m4K55qYIW0b",
        "colab_type": "code",
        "colab": {}
      },
      "source": [
        "from keras import optimizers  \n",
        "from keras.models import Sequential\n",
        "from keras.layers.convolutional import Conv3D\n",
        "from keras.layers.convolutional_recurrent import ConvLSTM2D\n",
        "from keras.layers.normalization import BatchNormalization\n",
        "from keras.layers import Dense\n",
        "from keras.layers import Flatten\n",
        "from keras.layers import Dropout\n",
        "import numpy as np\n",
        "from sklearn import preprocessing\n",
        "from keras.layers import Input, Dense, MaxPooling2D, MaxPooling3D, Dropout, BatchNormalization, Flatten, Conv2D, Conv3D, AveragePooling3D, LSTM, Reshape\n",
        "from sklearn import preprocessing\n",
        "from keras import metrics"
      ],
      "execution_count": null,
      "outputs": []
    },
    {
      "cell_type": "code",
      "metadata": {
        "id": "ZH26RX4yk3Ww",
        "colab_type": "code",
        "colab": {}
      },
      "source": [
        "X = np.load('/content/drive/My Drive/Project/data/train_img_forCNN.npy')\n",
        "y = np.load('/content/drive/My Drive/Project/data/train_label_forCNN.npy')\n",
        "X_train = X\n",
        "del X"
      ],
      "execution_count": null,
      "outputs": []
    },
    {
      "cell_type": "code",
      "metadata": {
        "id": "wA5E5QiTMyAJ",
        "colab_type": "code",
        "colab": {
          "base_uri": "https://localhost:8080/",
          "height": 34
        },
        "outputId": "bb81f30c-eb53-4a23-ab0c-5d7239aa5002"
      },
      "source": [
        "X_train.shape"
      ],
      "execution_count": null,
      "outputs": [
        {
          "output_type": "execute_result",
          "data": {
            "text/plain": [
              "(8000, 15, 101, 101)"
            ]
          },
          "metadata": {
            "tags": []
          },
          "execution_count": 5
        }
      ]
    },
    {
      "cell_type": "code",
      "metadata": {
        "id": "DLsSCFgdMqh1",
        "colab_type": "code",
        "colab": {}
      },
      "source": [
        "X_train = X_train.reshape(8000,15,101,101,1)"
      ],
      "execution_count": null,
      "outputs": []
    },
    {
      "cell_type": "code",
      "metadata": {
        "id": "XbSVKubgULYe",
        "colab_type": "code",
        "colab": {}
      },
      "source": [
        "index = [i for i in range(len(y))]  \n",
        "np.random.shuffle(index)\n",
        "\n",
        "X_train = X_train[index]\n",
        "y = y[index]"
      ],
      "execution_count": null,
      "outputs": []
    },
    {
      "cell_type": "code",
      "metadata": {
        "id": "-rI2cNUrIYKb",
        "colab_type": "code",
        "colab": {}
      },
      "source": [
        "    model = Sequential()\n",
        "'''    model.add(AveragePooling3D(pool_size=(1, 4, 4),\n",
        "                       input_shape=(None,101, 101, 1),\n",
        "                       padding='same'))\n",
        "    model.add(BatchNormalization())\n",
        "    \n",
        "    model.add(ConvLSTM2D(filters=32, kernel_size=(3, 3),\n",
        "                       padding='same', return_sequences=True))\n",
        "    model.add(BatchNormalization())'''\n",
        "    model.add(ConvLSTM2D(filters=32, kernel_size=(3, 3), input_shape=(None,101,101,1),\n",
        "                       padding='same', return_sequences=True))\n",
        "    model.add(BatchNormalization())\n",
        "    model.add(Dropout(0.25))\n",
        "    \n",
        "    model.add(ConvLSTM2D(filters=32, kernel_size=(3, 3),\n",
        "                       padding='same', return_sequences=True))\n",
        "    model.add(BatchNormalization())\n",
        "    model.add(Dropout(0.25))\n",
        "    \n",
        "    model.add(ConvLSTM2D(filters=32, kernel_size=(3, 3),\n",
        "                       padding='same', return_sequences=False))\n",
        "    model.add(BatchNormalization())\n",
        "    model.add(Dropout(0.25))\n",
        "    \n",
        "    model.add(MaxPooling2D(pool_size=(4, 4), padding='same'))\n",
        "    model.add(Flatten())\n",
        "    model.add(BatchNormalization())\n",
        "    model.add(Dropout(0.25))\n",
        "    \n",
        "    model.add(Dense(1024, activation='relu'))\n",
        "    model.add(BatchNormalization())\n",
        "    model.add(Dropout(0.4))\n",
        "    \n",
        "    model.add(Dense(512, activation='relu'))\n",
        "    model.add(BatchNormalization())\n",
        "    model.add(Dropout(0.4))\n",
        "    \n",
        "    model.add(Dense(1, activation='linear'))"
      ],
      "execution_count": null,
      "outputs": []
    },
    {
      "cell_type": "code",
      "metadata": {
        "id": "3njz204sIgA7",
        "colab_type": "code",
        "colab": {}
      },
      "source": [
        "\n",
        "model.compile(loss='mean_squared_error', optimizer='adam',metrics=[metrics.mse,metrics.mae])"
      ],
      "execution_count": null,
      "outputs": []
    },
    {
      "cell_type": "code",
      "metadata": {
        "id": "HbEiuN2OUwsq",
        "colab_type": "code",
        "colab": {
          "base_uri": "https://localhost:8080/",
          "height": 823
        },
        "outputId": "be254242-fc0f-4278-8b6c-4ce935dcdb8a"
      },
      "source": [
        "model.summary()"
      ],
      "execution_count": null,
      "outputs": [
        {
          "output_type": "stream",
          "text": [
            "Model: \"sequential\"\n",
            "_________________________________________________________________\n",
            "Layer (type)                 Output Shape              Param #   \n",
            "=================================================================\n",
            "conv_lst_m2d (ConvLSTM2D)    (None, None, 101, 101, 32 38144     \n",
            "_________________________________________________________________\n",
            "batch_normalization (BatchNo (None, None, 101, 101, 32 128       \n",
            "_________________________________________________________________\n",
            "dropout (Dropout)            (None, None, 101, 101, 32 0         \n",
            "_________________________________________________________________\n",
            "conv_lst_m2d_1 (ConvLSTM2D)  (None, None, 101, 101, 32 73856     \n",
            "_________________________________________________________________\n",
            "batch_normalization_1 (Batch (None, None, 101, 101, 32 128       \n",
            "_________________________________________________________________\n",
            "dropout_1 (Dropout)          (None, None, 101, 101, 32 0         \n",
            "_________________________________________________________________\n",
            "conv_lst_m2d_2 (ConvLSTM2D)  (None, 101, 101, 32)      73856     \n",
            "_________________________________________________________________\n",
            "batch_normalization_2 (Batch (None, 101, 101, 32)      128       \n",
            "_________________________________________________________________\n",
            "dropout_2 (Dropout)          (None, 101, 101, 32)      0         \n",
            "_________________________________________________________________\n",
            "max_pooling2d (MaxPooling2D) (None, 26, 26, 32)        0         \n",
            "_________________________________________________________________\n",
            "flatten (Flatten)            (None, 21632)             0         \n",
            "_________________________________________________________________\n",
            "batch_normalization_3 (Batch (None, 21632)             86528     \n",
            "_________________________________________________________________\n",
            "dropout_3 (Dropout)          (None, 21632)             0         \n",
            "_________________________________________________________________\n",
            "dense (Dense)                (None, 1024)              22152192  \n",
            "_________________________________________________________________\n",
            "batch_normalization_4 (Batch (None, 1024)              4096      \n",
            "_________________________________________________________________\n",
            "dropout_4 (Dropout)          (None, 1024)              0         \n",
            "_________________________________________________________________\n",
            "dense_1 (Dense)              (None, 512)               524800    \n",
            "_________________________________________________________________\n",
            "batch_normalization_5 (Batch (None, 512)               2048      \n",
            "_________________________________________________________________\n",
            "dropout_5 (Dropout)          (None, 512)               0         \n",
            "_________________________________________________________________\n",
            "dense_2 (Dense)              (None, 1)                 513       \n",
            "=================================================================\n",
            "Total params: 22,956,417\n",
            "Trainable params: 22,909,889\n",
            "Non-trainable params: 46,528\n",
            "_________________________________________________________________\n"
          ],
          "name": "stdout"
        }
      ]
    },
    {
      "cell_type": "code",
      "metadata": {
        "id": "IZEA4f0yNYDC",
        "colab_type": "code",
        "colab": {
          "base_uri": "https://localhost:8080/",
          "height": 709
        },
        "outputId": "3050ad31-a874-4706-f2eb-6991b1ad6af2"
      },
      "source": [
        "his = model.fit(X_train,y,batch_size=16,validation_split=0.2,epochs=20,verbose=1,shuffle=True)"
      ],
      "execution_count": null,
      "outputs": [
        {
          "output_type": "stream",
          "text": [
            "Epoch 1/20\n",
            "400/400 [==============================] - 491s 1s/step - loss: 312.5988 - mean_squared_error: 312.5988 - mean_absolute_error: 12.8309 - val_loss: 383.7712 - val_mean_squared_error: 383.7712 - val_mean_absolute_error: 14.3826\n",
            "Epoch 2/20\n",
            "400/400 [==============================] - 491s 1s/step - loss: 196.5477 - mean_squared_error: 196.5477 - mean_absolute_error: 10.7881 - val_loss: 210.9684 - val_mean_squared_error: 210.9684 - val_mean_absolute_error: 10.9812\n",
            "Epoch 3/20\n",
            "400/400 [==============================] - 491s 1s/step - loss: 168.5085 - mean_squared_error: 168.5085 - mean_absolute_error: 9.9023 - val_loss: 201.1594 - val_mean_squared_error: 201.1594 - val_mean_absolute_error: 10.5304\n",
            "Epoch 4/20\n",
            "400/400 [==============================] - 491s 1s/step - loss: 142.8019 - mean_squared_error: 142.8019 - mean_absolute_error: 9.0281 - val_loss: 180.1856 - val_mean_squared_error: 180.1856 - val_mean_absolute_error: 10.4578\n",
            "Epoch 5/20\n",
            "400/400 [==============================] - 492s 1s/step - loss: 129.8937 - mean_squared_error: 129.8937 - mean_absolute_error: 8.6195 - val_loss: 197.8631 - val_mean_squared_error: 197.8631 - val_mean_absolute_error: 10.5304\n",
            "Epoch 6/20\n",
            "400/400 [==============================] - 492s 1s/step - loss: 120.2464 - mean_squared_error: 120.2464 - mean_absolute_error: 8.2025 - val_loss: 211.1966 - val_mean_squared_error: 211.1966 - val_mean_absolute_error: 11.2058\n",
            "Epoch 7/20\n",
            "400/400 [==============================] - 492s 1s/step - loss: 103.0391 - mean_squared_error: 103.0391 - mean_absolute_error: 7.5911 - val_loss: 246.3150 - val_mean_squared_error: 246.3150 - val_mean_absolute_error: 12.5430\n",
            "Epoch 8/20\n",
            "400/400 [==============================] - 492s 1s/step - loss: 96.6875 - mean_squared_error: 96.6875 - mean_absolute_error: 7.4232 - val_loss: 176.4882 - val_mean_squared_error: 176.4882 - val_mean_absolute_error: 9.9372\n",
            "Epoch 9/20\n",
            "400/400 [==============================] - 492s 1s/step - loss: 85.4104 - mean_squared_error: 85.4104 - mean_absolute_error: 6.9300 - val_loss: 193.9418 - val_mean_squared_error: 193.9418 - val_mean_absolute_error: 10.7415\n",
            "Epoch 10/20\n",
            "400/400 [==============================] - 492s 1s/step - loss: 80.3955 - mean_squared_error: 80.3955 - mean_absolute_error: 6.7295 - val_loss: 187.8233 - val_mean_squared_error: 187.8233 - val_mean_absolute_error: 10.1445\n",
            "Epoch 11/20\n",
            "400/400 [==============================] - 492s 1s/step - loss: 74.7193 - mean_squared_error: 74.7193 - mean_absolute_error: 6.4516 - val_loss: 201.6944 - val_mean_squared_error: 201.6944 - val_mean_absolute_error: 10.8976\n",
            "Epoch 12/20\n",
            "400/400 [==============================] - 492s 1s/step - loss: 74.0431 - mean_squared_error: 74.0431 - mean_absolute_error: 6.4099 - val_loss: 223.3016 - val_mean_squared_error: 223.3016 - val_mean_absolute_error: 11.0120\n",
            "Epoch 13/20\n",
            "400/400 [==============================] - 492s 1s/step - loss: 69.8178 - mean_squared_error: 69.8178 - mean_absolute_error: 6.3023 - val_loss: 214.2612 - val_mean_squared_error: 214.2612 - val_mean_absolute_error: 10.8579\n",
            "Epoch 14/20\n",
            "400/400 [==============================] - 492s 1s/step - loss: 65.2007 - mean_squared_error: 65.2007 - mean_absolute_error: 6.0403 - val_loss: 262.9946 - val_mean_squared_error: 262.9946 - val_mean_absolute_error: 12.0576\n",
            "Epoch 15/20\n",
            "400/400 [==============================] - 492s 1s/step - loss: 61.3961 - mean_squared_error: 61.3961 - mean_absolute_error: 5.8880 - val_loss: 218.4444 - val_mean_squared_error: 218.4444 - val_mean_absolute_error: 11.0926\n",
            "Epoch 16/20\n",
            "400/400 [==============================] - 492s 1s/step - loss: 63.7168 - mean_squared_error: 63.7168 - mean_absolute_error: 5.9287 - val_loss: 198.4670 - val_mean_squared_error: 198.4670 - val_mean_absolute_error: 10.6762\n",
            "Epoch 17/20\n",
            "400/400 [==============================] - 491s 1s/step - loss: 61.9160 - mean_squared_error: 61.9160 - mean_absolute_error: 5.8990 - val_loss: 233.2180 - val_mean_squared_error: 233.2180 - val_mean_absolute_error: 11.4697\n",
            "Epoch 18/20\n",
            "400/400 [==============================] - 492s 1s/step - loss: 61.1609 - mean_squared_error: 61.1609 - mean_absolute_error: 5.8129 - val_loss: 197.1297 - val_mean_squared_error: 197.1297 - val_mean_absolute_error: 10.7868\n",
            "Epoch 19/20\n",
            "400/400 [==============================] - 492s 1s/step - loss: 56.0427 - mean_squared_error: 56.0427 - mean_absolute_error: 5.6124 - val_loss: 180.9981 - val_mean_squared_error: 180.9981 - val_mean_absolute_error: 10.2601\n",
            "Epoch 20/20\n",
            "400/400 [==============================] - 492s 1s/step - loss: 54.6457 - mean_squared_error: 54.6457 - mean_absolute_error: 5.5732 - val_loss: 275.5471 - val_mean_squared_error: 275.5471 - val_mean_absolute_error: 12.7475\n"
          ],
          "name": "stdout"
        }
      ]
    },
    {
      "cell_type": "code",
      "metadata": {
        "id": "ODLXqpjane8n",
        "colab_type": "code",
        "colab": {}
      },
      "source": [
        "del X_train,y\n"
      ],
      "execution_count": null,
      "outputs": []
    },
    {
      "cell_type": "code",
      "metadata": {
        "id": "rYCT5A2FrMpZ",
        "colab_type": "code",
        "colab": {}
      },
      "source": [
        "np.save('/content/drive/My Drive/Project/model_epoch20_batchsize16_ConvLSTM.npy',his.history)"
      ],
      "execution_count": null,
      "outputs": []
    },
    {
      "cell_type": "code",
      "metadata": {
        "id": "-LpLprRwrbSL",
        "colab_type": "code",
        "colab": {}
      },
      "source": [
        "import matplotlib.pyplot as plt"
      ],
      "execution_count": null,
      "outputs": []
    },
    {
      "cell_type": "code",
      "metadata": {
        "id": "yHtsOGHjTzPH",
        "colab_type": "code",
        "colab": {
          "base_uri": "https://localhost:8080/",
          "height": 34
        },
        "outputId": "89315af3-4b64-4627-b44a-f15264fee061"
      },
      "source": [
        "    mse         = his.history['mean_squared_error']\n",
        "    mae         = his.history['mean_absolute_error']\n",
        "    val_mse     = his.history['val_mean_squared_error']\n",
        "    val_mae     = his.history['val_mean_absolute_error']\n",
        "    epochs       = range(len(mse))\n",
        "    nb_epochs    = len(epochs)\n",
        "    \n",
        "    epochs\n"
      ],
      "execution_count": null,
      "outputs": [
        {
          "output_type": "execute_result",
          "data": {
            "text/plain": [
              "range(0, 20)"
            ]
          },
          "metadata": {
            "tags": []
          },
          "execution_count": 28
        }
      ]
    },
    {
      "cell_type": "code",
      "metadata": {
        "id": "SQp60HtntI8s",
        "colab_type": "code",
        "colab": {
          "base_uri": "https://localhost:8080/",
          "height": 281
        },
        "outputId": "a54470c5-52b8-4d98-f6ba-1dbc50b4b203"
      },
      "source": [
        "    \n",
        "    f2 = plt.figure(2)\n",
        "  \n",
        "    #plt.axis(np.arange(0,nb_epochs,1))\n",
        "    plt.xticks(np.arange(0,nb_epochs,5))\n",
        "    plt.plot(epochs, mse, 'ro', label='Training MSE')\n",
        "    #plt.plot(epochs, mae, 'r--', label='Training MAE')\n",
        "    plt.plot(epochs, val_mse, 'g-', label='Validation MSE')\n",
        "    #plt.plot(epochs, val_mae, 'g^', label='Validation MAE')\n",
        "    plt.title('Training and validation MSE')\n",
        "    plt.legend()\n",
        "    #plt.draw()\n",
        "    plt.pause(0.001)\n",
        "    plt.show()"
      ],
      "execution_count": null,
      "outputs": [
        {
          "output_type": "display_data",
          "data": {
            "image/png": "[encoded data removed]",
            "text/plain": [
              "<Figure size 432x288 with 1 Axes>"
            ]
          },
          "metadata": {
            "tags": [],
            "needs_background": "light"
          }
        }
      ]
    },
    {
      "cell_type": "code",
      "metadata": {
        "id": "i8_w0h2ikXYJ",
        "colab_type": "code",
        "colab": {}
      },
      "source": [
        "\n",
        "X_test = np.load('/content/drive/My Drive/Project/test_img.npy')\n",
        "y_test = np.load('/content/drive/My Drive/Project/test_label.npy')\n",
        "#X_test = X_test[:,:,3,:]\n"
      ],
      "execution_count": null,
      "outputs": []
    },
    {
      "cell_type": "code",
      "metadata": {
        "id": "26Y8Ypld_Exd",
        "colab_type": "code",
        "colab": {}
      },
      "source": [
        "X_test = X_test.reshape(2000,15,101,101,1)"
      ],
      "execution_count": null,
      "outputs": []
    },
    {
      "cell_type": "code",
      "metadata": {
        "id": "dt-3RzBQhxHd",
        "colab_type": "code",
        "colab": {
          "base_uri": "https://localhost:8080/",
          "height": 34
        },
        "outputId": "4a727766-179e-4620-b1c5-4daab2038c8e"
      },
      "source": [
        "re = model.evaluate(X_test,y_test)"
      ],
      "execution_count": null,
      "outputs": [
        {
          "output_type": "stream",
          "text": [
            "63/63 [==============================] - 38s 611ms/step - loss: 147.7165 - mean_squared_error: 147.7165 - mean_absolute_error: 8.9494\n"
          ],
          "name": "stdout"
        }
      ]
    },
    {
      "cell_type": "code",
      "metadata": {
        "id": "XTAli5h2AJAW",
        "colab_type": "code",
        "colab": {
          "base_uri": "https://localhost:8080/",
          "height": 34
        },
        "outputId": "88822ef6-bb6f-45a0-ce00-9af4af7d9dd2"
      },
      "source": [
        "re"
      ],
      "execution_count": null,
      "outputs": [
        {
          "output_type": "execute_result",
          "data": {
            "text/plain": [
              "[147.71649169921875, 147.71649169921875, 8.949355125427246]"
            ]
          },
          "metadata": {
            "tags": []
          },
          "execution_count": 34
        }
      ]
    },
    {
      "cell_type": "code",
      "metadata": {
        "id": "42lxlG7v1fS3",
        "colab_type": "code",
        "colab": {}
      },
      "source": [
        "y_pre = model.predict(X_test)"
      ],
      "execution_count": null,
      "outputs": []
    },
    {
      "cell_type": "code",
      "metadata": {
        "id": "x2uut9e91jwc",
        "colab_type": "code",
        "colab": {}
      },
      "source": [
        ""
      ],
      "execution_count": null,
      "outputs": []
    }
  ]
}