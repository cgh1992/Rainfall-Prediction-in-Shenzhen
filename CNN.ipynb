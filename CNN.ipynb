{
  "nbformat": 4,
  "nbformat_minor": 0,
  "metadata": {
    "colab": {
      "name": "CNN.ipynb",
      "provenance": [],
      "collapsed_sections": [],
      "authorship_tag": "ABX9TyO8FiDTgUHzbvXSnE2U8unC",
      "include_colab_link": true
    },
    "kernelspec": {
      "name": "python3",
      "display_name": "Python 3"
    },
    "accelerator": "GPU"
  },
  "cells": [
    {
      "cell_type": "markdown",
      "metadata": {
        "id": "view-in-github",
        "colab_type": "text"
      },
      "source": [
        "<a href=\"https://colab.research.google.com/github/cgh1992/Rainfall-Prediction-in-Shenzhen/blob/master/CNN.ipynb\" target=\"_parent\"><img src=\"https://colab.research.google.com/assets/colab-badge.svg\" alt=\"Open In Colab\"/></a>"
      ]
    },
    {
      "cell_type": "code",
      "metadata": {
        "id": "Ioqp3Tsa78t5",
        "colab_type": "code",
        "colab": {
          "base_uri": "https://localhost:8080/",
          "height": 121
        },
        "outputId": "41747e58-5eac-4ca6-bba9-7ae1def2687f"
      },
      "source": [
        "from google.colab import drive\n",
        "drive.mount('/content/drive')"
      ],
      "execution_count": 1,
      "outputs": [
        {
          "output_type": "stream",
          "text": [
            "Go to this URL in a browser: https://accounts.google.com/o/oauth2/auth?client_id=947318989803-6bn6qk8qdgf4n4g3pfee6491hc0brc4i.apps.googleusercontent.com&redirect_uri=urn%3aietf%3awg%3aoauth%3a2.0%3aoob&scope=email%20https%3a%2f%2fwww.googleapis.com%2fauth%2fdocs.test%20https%3a%2f%2fwww.googleapis.com%2fauth%2fdrive%20https%3a%2f%2fwww.googleapis.com%2fauth%2fdrive.photos.readonly%20https%3a%2f%2fwww.googleapis.com%2fauth%2fpeopleapi.readonly&response_type=code\n",
            "\n",
            "Enter your authorization code:\n",
            "··········\n",
            "Mounted at /content/drive\n"
          ],
          "name": "stdout"
        }
      ]
    },
    {
      "cell_type": "code",
      "metadata": {
        "id": "l563Ol-Y8KZS",
        "colab_type": "code",
        "colab": {}
      },
      "source": [
        "import pandas as pd\n",
        "import numpy as np"
      ],
      "execution_count": 2,
      "outputs": []
    },
    {
      "cell_type": "code",
      "metadata": {
        "id": "OHSf0V-Qv7Eg",
        "colab_type": "code",
        "colab": {
          "base_uri": "https://localhost:8080/",
          "height": 944
        },
        "outputId": "c5a8a226-2c66-4dda-8af4-1cc00b8846a2"
      },
      "source": [
        "!pip install tensorflow==2.2.0"
      ],
      "execution_count": 3,
      "outputs": [
        {
          "output_type": "stream",
          "text": [
            "Collecting tensorflow==2.2.0\n",
            "\u001b[?25l  Downloading https://files.pythonhosted.org/packages/3d/be/679ce5254a8c8d07470efb4a4c00345fae91f766e64f1c2aece8796d7218/tensorflow-2.2.0-cp36-cp36m-manylinux2010_x86_64.whl (516.2MB)\n",
            "\u001b[K     |████████████████████████████████| 516.2MB 15kB/s \n",
            "\u001b[?25hRequirement already satisfied: google-pasta>=0.1.8 in /usr/local/lib/python3.6/dist-packages (from tensorflow==2.2.0) (0.2.0)\n",
            "Requirement already satisfied: absl-py>=0.7.0 in /usr/local/lib/python3.6/dist-packages (from tensorflow==2.2.0) (0.8.1)\n",
            "Requirement already satisfied: gast==0.3.3 in /usr/local/lib/python3.6/dist-packages (from tensorflow==2.2.0) (0.3.3)\n",
            "Requirement already satisfied: six>=1.12.0 in /usr/local/lib/python3.6/dist-packages (from tensorflow==2.2.0) (1.15.0)\n",
            "Requirement already satisfied: astunparse==1.6.3 in /usr/local/lib/python3.6/dist-packages (from tensorflow==2.2.0) (1.6.3)\n",
            "Requirement already satisfied: grpcio>=1.8.6 in /usr/local/lib/python3.6/dist-packages (from tensorflow==2.2.0) (1.31.0)\n",
            "Requirement already satisfied: wheel>=0.26; python_version >= \"3\" in /usr/local/lib/python3.6/dist-packages (from tensorflow==2.2.0) (0.35.1)\n",
            "Requirement already satisfied: numpy<2.0,>=1.16.0 in /usr/local/lib/python3.6/dist-packages (from tensorflow==2.2.0) (1.18.5)\n",
            "Collecting tensorboard<2.3.0,>=2.2.0\n",
            "\u001b[?25l  Downloading https://files.pythonhosted.org/packages/1d/74/0a6fcb206dcc72a6da9a62dd81784bfdbff5fedb099982861dc2219014fb/tensorboard-2.2.2-py3-none-any.whl (3.0MB)\n",
            "\u001b[K     |████████████████████████████████| 3.0MB 51.7MB/s \n",
            "\u001b[?25hRequirement already satisfied: termcolor>=1.1.0 in /usr/local/lib/python3.6/dist-packages (from tensorflow==2.2.0) (1.1.0)\n",
            "Requirement already satisfied: wrapt>=1.11.1 in /usr/local/lib/python3.6/dist-packages (from tensorflow==2.2.0) (1.12.1)\n",
            "Collecting tensorflow-estimator<2.3.0,>=2.2.0\n",
            "\u001b[?25l  Downloading https://files.pythonhosted.org/packages/a4/f5/926ae53d6a226ec0fda5208e0e581cffed895ccc89e36ba76a8e60895b78/tensorflow_estimator-2.2.0-py2.py3-none-any.whl (454kB)\n",
            "\u001b[K     |████████████████████████████████| 460kB 53.2MB/s \n",
            "\u001b[?25hRequirement already satisfied: scipy==1.4.1; python_version >= \"3\" in /usr/local/lib/python3.6/dist-packages (from tensorflow==2.2.0) (1.4.1)\n",
            "Requirement already satisfied: keras-preprocessing>=1.1.0 in /usr/local/lib/python3.6/dist-packages (from tensorflow==2.2.0) (1.1.2)\n",
            "Requirement already satisfied: opt-einsum>=2.3.2 in /usr/local/lib/python3.6/dist-packages (from tensorflow==2.2.0) (3.3.0)\n",
            "Requirement already satisfied: protobuf>=3.8.0 in /usr/local/lib/python3.6/dist-packages (from tensorflow==2.2.0) (3.12.4)\n",
            "Requirement already satisfied: h5py<2.11.0,>=2.10.0 in /usr/local/lib/python3.6/dist-packages (from tensorflow==2.2.0) (2.10.0)\n",
            "Requirement already satisfied: google-auth-oauthlib<0.5,>=0.4.1 in /usr/local/lib/python3.6/dist-packages (from tensorboard<2.3.0,>=2.2.0->tensorflow==2.2.0) (0.4.1)\n",
            "Requirement already satisfied: markdown>=2.6.8 in /usr/local/lib/python3.6/dist-packages (from tensorboard<2.3.0,>=2.2.0->tensorflow==2.2.0) (3.2.2)\n",
            "Requirement already satisfied: setuptools>=41.0.0 in /usr/local/lib/python3.6/dist-packages (from tensorboard<2.3.0,>=2.2.0->tensorflow==2.2.0) (49.6.0)\n",
            "Requirement already satisfied: tensorboard-plugin-wit>=1.6.0 in /usr/local/lib/python3.6/dist-packages (from tensorboard<2.3.0,>=2.2.0->tensorflow==2.2.0) (1.7.0)\n",
            "Requirement already satisfied: google-auth<2,>=1.6.3 in /usr/local/lib/python3.6/dist-packages (from tensorboard<2.3.0,>=2.2.0->tensorflow==2.2.0) (1.17.2)\n",
            "Requirement already satisfied: werkzeug>=0.11.15 in /usr/local/lib/python3.6/dist-packages (from tensorboard<2.3.0,>=2.2.0->tensorflow==2.2.0) (1.0.1)\n",
            "Requirement already satisfied: requests<3,>=2.21.0 in /usr/local/lib/python3.6/dist-packages (from tensorboard<2.3.0,>=2.2.0->tensorflow==2.2.0) (2.23.0)\n",
            "Requirement already satisfied: requests-oauthlib>=0.7.0 in /usr/local/lib/python3.6/dist-packages (from google-auth-oauthlib<0.5,>=0.4.1->tensorboard<2.3.0,>=2.2.0->tensorflow==2.2.0) (1.3.0)\n",
            "Requirement already satisfied: importlib-metadata; python_version < \"3.8\" in /usr/local/lib/python3.6/dist-packages (from markdown>=2.6.8->tensorboard<2.3.0,>=2.2.0->tensorflow==2.2.0) (1.7.0)\n",
            "Requirement already satisfied: rsa<5,>=3.1.4; python_version >= \"3\" in /usr/local/lib/python3.6/dist-packages (from google-auth<2,>=1.6.3->tensorboard<2.3.0,>=2.2.0->tensorflow==2.2.0) (4.6)\n",
            "Requirement already satisfied: pyasn1-modules>=0.2.1 in /usr/local/lib/python3.6/dist-packages (from google-auth<2,>=1.6.3->tensorboard<2.3.0,>=2.2.0->tensorflow==2.2.0) (0.2.8)\n",
            "Requirement already satisfied: cachetools<5.0,>=2.0.0 in /usr/local/lib/python3.6/dist-packages (from google-auth<2,>=1.6.3->tensorboard<2.3.0,>=2.2.0->tensorflow==2.2.0) (4.1.1)\n",
            "Requirement already satisfied: idna<3,>=2.5 in /usr/local/lib/python3.6/dist-packages (from requests<3,>=2.21.0->tensorboard<2.3.0,>=2.2.0->tensorflow==2.2.0) (2.10)\n",
            "Requirement already satisfied: urllib3!=1.25.0,!=1.25.1,<1.26,>=1.21.1 in /usr/local/lib/python3.6/dist-packages (from requests<3,>=2.21.0->tensorboard<2.3.0,>=2.2.0->tensorflow==2.2.0) (1.24.3)\n",
            "Requirement already satisfied: certifi>=2017.4.17 in /usr/local/lib/python3.6/dist-packages (from requests<3,>=2.21.0->tensorboard<2.3.0,>=2.2.0->tensorflow==2.2.0) (2020.6.20)\n",
            "Requirement already satisfied: chardet<4,>=3.0.2 in /usr/local/lib/python3.6/dist-packages (from requests<3,>=2.21.0->tensorboard<2.3.0,>=2.2.0->tensorflow==2.2.0) (3.0.4)\n",
            "Requirement already satisfied: oauthlib>=3.0.0 in /usr/local/lib/python3.6/dist-packages (from requests-oauthlib>=0.7.0->google-auth-oauthlib<0.5,>=0.4.1->tensorboard<2.3.0,>=2.2.0->tensorflow==2.2.0) (3.1.0)\n",
            "Requirement already satisfied: zipp>=0.5 in /usr/local/lib/python3.6/dist-packages (from importlib-metadata; python_version < \"3.8\"->markdown>=2.6.8->tensorboard<2.3.0,>=2.2.0->tensorflow==2.2.0) (3.1.0)\n",
            "Requirement already satisfied: pyasn1>=0.1.3 in /usr/local/lib/python3.6/dist-packages (from rsa<5,>=3.1.4; python_version >= \"3\"->google-auth<2,>=1.6.3->tensorboard<2.3.0,>=2.2.0->tensorflow==2.2.0) (0.4.8)\n",
            "Installing collected packages: tensorboard, tensorflow-estimator, tensorflow\n",
            "  Found existing installation: tensorboard 2.3.0\n",
            "    Uninstalling tensorboard-2.3.0:\n",
            "      Successfully uninstalled tensorboard-2.3.0\n",
            "  Found existing installation: tensorflow-estimator 2.3.0\n",
            "    Uninstalling tensorflow-estimator-2.3.0:\n",
            "      Successfully uninstalled tensorflow-estimator-2.3.0\n",
            "  Found existing installation: tensorflow 2.3.0\n",
            "    Uninstalling tensorflow-2.3.0:\n",
            "      Successfully uninstalled tensorflow-2.3.0\n",
            "Successfully installed tensorboard-2.2.2 tensorflow-2.2.0 tensorflow-estimator-2.2.0\n"
          ],
          "name": "stdout"
        }
      ]
    },
    {
      "cell_type": "code",
      "metadata": {
        "id": "IPocHl018LWx",
        "colab_type": "code",
        "colab": {}
      },
      "source": [
        "X = np.load('/content/drive/My Drive/Project/data/train_img_forCNN.npy')\n",
        "y = np.load('/content/drive/My Drive/Project/data/train_label_forCNN.npy')\n",
        "X_train = X\n",
        "del X"
      ],
      "execution_count": 4,
      "outputs": []
    },
    {
      "cell_type": "code",
      "metadata": {
        "id": "5zTTKGpp1Q5u",
        "colab_type": "code",
        "colab": {
          "base_uri": "https://localhost:8080/",
          "height": 34
        },
        "outputId": "bf868a2e-d2f0-4299-a167-5857c8a03ce4"
      },
      "source": [
        "y.shape"
      ],
      "execution_count": 5,
      "outputs": [
        {
          "output_type": "execute_result",
          "data": {
            "text/plain": [
              "(8000,)"
            ]
          },
          "metadata": {
            "tags": []
          },
          "execution_count": 5
        }
      ]
    },
    {
      "cell_type": "code",
      "metadata": {
        "id": "bUaF8y6R8_i-",
        "colab_type": "code",
        "colab": {}
      },
      "source": [
        "y_train = []\n",
        "for i in range(len(y)):\n",
        "  for j in range(15):\n",
        "    y_train.append(y[i])"
      ],
      "execution_count": 6,
      "outputs": []
    },
    {
      "cell_type": "code",
      "metadata": {
        "id": "ZlTEDuxF4U1C",
        "colab_type": "code",
        "colab": {
          "base_uri": "https://localhost:8080/",
          "height": 34
        },
        "outputId": "f8135025-aa6b-4ef7-beb2-52bbdeac202a"
      },
      "source": [
        "y_train = np.array(y_train)\n",
        "y_train.shape"
      ],
      "execution_count": 7,
      "outputs": [
        {
          "output_type": "execute_result",
          "data": {
            "text/plain": [
              "(120000,)"
            ]
          },
          "metadata": {
            "tags": []
          },
          "execution_count": 7
        }
      ]
    },
    {
      "cell_type": "code",
      "metadata": {
        "id": "7bHwNXF4DFLf",
        "colab_type": "code",
        "colab": {}
      },
      "source": [
        "del y"
      ],
      "execution_count": 8,
      "outputs": []
    },
    {
      "cell_type": "code",
      "metadata": {
        "id": "dawBY62u93AS",
        "colab_type": "code",
        "colab": {
          "base_uri": "https://localhost:8080/",
          "height": 34
        },
        "outputId": "36d1e779-4b3a-4840-9513-40795a3fa4d2"
      },
      "source": [
        "X_train.shape"
      ],
      "execution_count": 9,
      "outputs": [
        {
          "output_type": "execute_result",
          "data": {
            "text/plain": [
              "(8000, 15, 101, 101)"
            ]
          },
          "metadata": {
            "tags": []
          },
          "execution_count": 9
        }
      ]
    },
    {
      "cell_type": "code",
      "metadata": {
        "id": "YQuiEJ1FDHkP",
        "colab_type": "code",
        "colab": {}
      },
      "source": [
        "X_train = X_train.reshape(120000,101,101,1)"
      ],
      "execution_count": 10,
      "outputs": []
    },
    {
      "cell_type": "code",
      "metadata": {
        "id": "-8wmT7_u4Ew3",
        "colab_type": "code",
        "colab": {}
      },
      "source": [
        "'''index = [i for i in range(len(y_train))]  \n",
        "np.random.shuffle(index)\n",
        "\n",
        "X_train = X_train[index]\n",
        "y_train = y_train[index]'''"
      ],
      "execution_count": 11,
      "outputs": []
    },
    {
      "cell_type": "code",
      "metadata": {
        "id": "FlqrH5xOHmQC",
        "colab_type": "code",
        "colab": {}
      },
      "source": [
        "import tensorflow as tf\n",
        "from tensorflow import keras\n",
        "from tensorflow.keras import layers\n",
        "from keras.models import Sequential,Model\n",
        "from keras.layers import Dense,Conv2D,MaxPooling2D,Flatten,Dropout,BatchNormalization\n",
        "from keras import metrics,applications\n",
        "\n",
        "from keras.callbacks import ModelCheckpoint\n",
        "from keras.models import load_model"
      ],
      "execution_count": 11,
      "outputs": []
    },
    {
      "cell_type": "code",
      "metadata": {
        "id": "QVC1I887t48U",
        "colab_type": "code",
        "colab": {
          "base_uri": "https://localhost:8080/",
          "height": 35
        },
        "outputId": "43ef7b38-4137-48b8-c95e-3f6233dd4578"
      },
      "source": [
        "tf.__version__"
      ],
      "execution_count": 12,
      "outputs": [
        {
          "output_type": "execute_result",
          "data": {
            "application/vnd.google.colaboratory.intrinsic+json": {
              "type": "string"
            },
            "text/plain": [
              "'2.2.0'"
            ]
          },
          "metadata": {
            "tags": []
          },
          "execution_count": 12
        }
      ]
    },
    {
      "cell_type": "code",
      "metadata": {
        "id": "PYAAM-gKo4te",
        "colab_type": "code",
        "colab": {}
      },
      "source": [
        "base_model = applications.ResNet101(\n",
        "    include_top=False,\n",
        "    weights=None,\n",
        "    input_shape=(101,101,1),\n",
        "    pooling=None,  \n",
        ")\n",
        "x = base_model.output\n",
        "x = Flatten()(x)\n",
        "predictions = Dense(1)(x)\n",
        "model = Model(inputs = base_model.input, outputs = predictions)\n",
        "opt = keras.optimizers.Adam()\n",
        "model.compile(loss='mean_squared_error', optimizer= opt,metrics=[metrics.mse,metrics.mae])\n",
        "#model.summary()"
      ],
      "execution_count": 13,
      "outputs": []
    },
    {
      "cell_type": "code",
      "metadata": {
        "id": "P0YZakfB3I7M",
        "colab_type": "code",
        "colab": {
          "base_uri": "https://localhost:8080/",
          "height": 877
        },
        "outputId": "4ca575fd-1b83-47cb-eca8-ecae07f7686a"
      },
      "source": [
        "mod_rec50 = model.fit(X_train,y_train,batch_size=128,epochs=25,validation_split=0.2)"
      ],
      "execution_count": 14,
      "outputs": [
        {
          "output_type": "stream",
          "text": [
            "Epoch 1/25\n",
            "750/750 [==============================] - 230s 307ms/step - loss: 226.8228 - mean_squared_error: 226.8228 - mean_absolute_error: 11.8087 - val_loss: 230.8938 - val_mean_squared_error: 230.8938 - val_mean_absolute_error: 11.8011\n",
            "Epoch 2/25\n",
            "750/750 [==============================] - 228s 304ms/step - loss: 167.0257 - mean_squared_error: 167.0257 - mean_absolute_error: 9.8773 - val_loss: 181.8618 - val_mean_squared_error: 181.8618 - val_mean_absolute_error: 9.8953\n",
            "Epoch 3/25\n",
            "750/750 [==============================] - 228s 304ms/step - loss: 127.3944 - mean_squared_error: 127.3944 - mean_absolute_error: 8.4408 - val_loss: 601.1626 - val_mean_squared_error: 601.1626 - val_mean_absolute_error: 12.9181\n",
            "Epoch 4/25\n",
            "750/750 [==============================] - 228s 304ms/step - loss: 98.9589 - mean_squared_error: 98.9589 - mean_absolute_error: 7.2666 - val_loss: 146.0978 - val_mean_squared_error: 146.0978 - val_mean_absolute_error: 8.7138\n",
            "Epoch 5/25\n",
            "750/750 [==============================] - 228s 304ms/step - loss: 80.1092 - mean_squared_error: 80.1092 - mean_absolute_error: 6.3827 - val_loss: 138.8494 - val_mean_squared_error: 138.8494 - val_mean_absolute_error: 8.4317\n",
            "Epoch 6/25\n",
            "750/750 [==============================] - 228s 304ms/step - loss: 69.5705 - mean_squared_error: 69.5705 - mean_absolute_error: 5.8336 - val_loss: 153.1207 - val_mean_squared_error: 153.1207 - val_mean_absolute_error: 8.5352\n",
            "Epoch 7/25\n",
            "750/750 [==============================] - 228s 304ms/step - loss: 58.9523 - mean_squared_error: 58.9523 - mean_absolute_error: 5.2905 - val_loss: 136.7542 - val_mean_squared_error: 136.7542 - val_mean_absolute_error: 8.2371\n",
            "Epoch 8/25\n",
            "750/750 [==============================] - 228s 304ms/step - loss: 54.5235 - mean_squared_error: 54.5235 - mean_absolute_error: 5.0282 - val_loss: 354.2817 - val_mean_squared_error: 354.2817 - val_mean_absolute_error: 8.6785\n",
            "Epoch 9/25\n",
            "750/750 [==============================] - 228s 304ms/step - loss: 49.9476 - mean_squared_error: 49.9476 - mean_absolute_error: 4.7515 - val_loss: 803.9050 - val_mean_squared_error: 803.9050 - val_mean_absolute_error: 14.8936\n",
            "Epoch 10/25\n",
            "750/750 [==============================] - 228s 304ms/step - loss: 49.7422 - mean_squared_error: 49.7422 - mean_absolute_error: 4.7339 - val_loss: 1671.7166 - val_mean_squared_error: 1671.7166 - val_mean_absolute_error: 14.0453\n",
            "Epoch 11/25\n",
            "750/750 [==============================] - 228s 304ms/step - loss: 42.7675 - mean_squared_error: 42.7675 - mean_absolute_error: 4.3265 - val_loss: 4664.3423 - val_mean_squared_error: 4664.3423 - val_mean_absolute_error: 19.2524\n",
            "Epoch 12/25\n",
            "750/750 [==============================] - 228s 304ms/step - loss: 44.4769 - mean_squared_error: 44.4769 - mean_absolute_error: 4.4293 - val_loss: 174.4404 - val_mean_squared_error: 174.4404 - val_mean_absolute_error: 7.8750\n",
            "Epoch 13/25\n",
            "750/750 [==============================] - 228s 304ms/step - loss: 37.6751 - mean_squared_error: 37.6751 - mean_absolute_error: 3.9980 - val_loss: 129.1719 - val_mean_squared_error: 129.1719 - val_mean_absolute_error: 7.6114\n",
            "Epoch 14/25\n",
            "750/750 [==============================] - 228s 304ms/step - loss: 33.9726 - mean_squared_error: 33.9726 - mean_absolute_error: 3.7561 - val_loss: 127.2503 - val_mean_squared_error: 127.2503 - val_mean_absolute_error: 7.6414\n",
            "Epoch 15/25\n",
            "750/750 [==============================] - 228s 304ms/step - loss: 32.4719 - mean_squared_error: 32.4719 - mean_absolute_error: 3.6291 - val_loss: 994.1498 - val_mean_squared_error: 994.1498 - val_mean_absolute_error: 10.7122\n",
            "Epoch 16/25\n",
            "750/750 [==============================] - 228s 304ms/step - loss: 30.7267 - mean_squared_error: 30.7267 - mean_absolute_error: 3.5078 - val_loss: 152.1766 - val_mean_squared_error: 152.1766 - val_mean_absolute_error: 7.7858\n",
            "Epoch 17/25\n",
            "750/750 [==============================] - 228s 304ms/step - loss: 33.6709 - mean_squared_error: 33.6709 - mean_absolute_error: 3.7048 - val_loss: 384.0518 - val_mean_squared_error: 384.0518 - val_mean_absolute_error: 8.4340\n",
            "Epoch 18/25\n",
            "750/750 [==============================] - 228s 304ms/step - loss: 29.7937 - mean_squared_error: 29.7937 - mean_absolute_error: 3.4249 - val_loss: 131.8415 - val_mean_squared_error: 131.8415 - val_mean_absolute_error: 7.7498\n",
            "Epoch 19/25\n",
            "750/750 [==============================] - 228s 304ms/step - loss: 38.5856 - mean_squared_error: 38.5856 - mean_absolute_error: 3.9562 - val_loss: 135.9615 - val_mean_squared_error: 135.9615 - val_mean_absolute_error: 7.9996\n",
            "Epoch 20/25\n",
            "750/750 [==============================] - 228s 304ms/step - loss: 27.9102 - mean_squared_error: 27.9102 - mean_absolute_error: 3.2728 - val_loss: 130.1086 - val_mean_squared_error: 130.1086 - val_mean_absolute_error: 7.6061\n",
            "Epoch 21/25\n",
            "750/750 [==============================] - 228s 304ms/step - loss: 23.8928 - mean_squared_error: 23.8928 - mean_absolute_error: 2.9605 - val_loss: 124.7316 - val_mean_squared_error: 124.7316 - val_mean_absolute_error: 7.3825\n",
            "Epoch 22/25\n",
            "750/750 [==============================] - 228s 304ms/step - loss: 23.4088 - mean_squared_error: 23.4088 - mean_absolute_error: 2.9079 - val_loss: 130.9119 - val_mean_squared_error: 130.9119 - val_mean_absolute_error: 7.6219\n",
            "Epoch 23/25\n",
            "750/750 [==============================] - 228s 304ms/step - loss: 23.4481 - mean_squared_error: 23.4481 - mean_absolute_error: 2.9072 - val_loss: 128.4217 - val_mean_squared_error: 128.4217 - val_mean_absolute_error: 7.5996\n",
            "Epoch 24/25\n",
            "750/750 [==============================] - 228s 304ms/step - loss: 23.5521 - mean_squared_error: 23.5521 - mean_absolute_error: 2.9236 - val_loss: 128.2217 - val_mean_squared_error: 128.2217 - val_mean_absolute_error: 7.5946\n",
            "Epoch 25/25\n",
            "750/750 [==============================] - 228s 304ms/step - loss: 23.8903 - mean_squared_error: 23.8903 - mean_absolute_error: 2.9360 - val_loss: 333.2029 - val_mean_squared_error: 333.2029 - val_mean_absolute_error: 9.1377\n"
          ],
          "name": "stdout"
        }
      ]
    },
    {
      "cell_type": "code",
      "metadata": {
        "id": "zZhmlRUqA-NF",
        "colab_type": "code",
        "colab": {}
      },
      "source": [
        "np.save('/content/drive/My Drive/Project/model_epoch20_batchsize16_ResNet50.npy',mod_rec50.history)"
      ],
      "execution_count": null,
      "outputs": []
    },
    {
      "cell_type": "code",
      "metadata": {
        "id": "1-D7DLCF4wF1",
        "colab_type": "code",
        "colab": {}
      },
      "source": [
        "model.save('/content/drive/My Drive/Project/model_epoch25_batchsize128_ResNet50.h5')"
      ],
      "execution_count": null,
      "outputs": []
    },
    {
      "cell_type": "code",
      "metadata": {
        "id": "Ya64JGJM9K3D",
        "colab_type": "code",
        "colab": {}
      },
      "source": [
        "base_model_2 = applications.ResNet50(\n",
        "    include_top=False,\n",
        "    weights=None,\n",
        "    input_shape=(101,101,1),\n",
        "    pooling=None,  \n",
        ")\n",
        "x_2 = base_model_2.output\n",
        "x_2 = Flatten()(x_2)\n",
        "predictions_2 = Dense(1)(x_2)\n",
        "model_2 = Model(inputs = base_model_2.input, outputs = predictions_2)\n",
        "checkpoint = ModelCheckpoint('/content/drive/My Drive/Project/model_best_ResNet50_2.h5', monitor='val_loss',verbose=1, \n",
        "                            save_best_only=True)\n",
        "opt2 = keras.optimizers.Adam(0.001)\n",
        "model_2.compile(loss='mean_squared_error', optimizer=opt2,metrics=[metrics.mse,metrics.mae])\n",
        "#model.summary()"
      ],
      "execution_count": null,
      "outputs": []
    },
    {
      "cell_type": "code",
      "metadata": {
        "id": "9ZIoPnRDB46d",
        "colab_type": "code",
        "colab": {
          "base_uri": "https://localhost:8080/",
          "height": 1000
        },
        "outputId": "139a2668-2fd6-4be6-cb78-f04dea428de7"
      },
      "source": [
        "mod_rec50_2 = model_2.fit(X_train,y_train,batch_size=128,epochs=40,validation_split=0.2,callbacks=[checkpoint])"
      ],
      "execution_count": null,
      "outputs": [
        {
          "output_type": "stream",
          "text": [
            "Epoch 1/40\n",
            "750/750 [==============================] - ETA: 0s - loss: 213.0572 - mean_squared_error: 213.0572 - mean_absolute_error: 11.3716\n",
            "Epoch 00001: val_loss improved from inf to 262.85806, saving model to /content/drive/My Drive/Project/model_best_ResNet50_2.h5\n",
            "750/750 [==============================] - 139s 185ms/step - loss: 213.0572 - mean_squared_error: 213.0572 - mean_absolute_error: 11.3716 - val_loss: 262.8581 - val_mean_squared_error: 262.8581 - val_mean_absolute_error: 11.8014\n",
            "Epoch 2/40\n",
            "750/750 [==============================] - ETA: 0s - loss: 150.8204 - mean_squared_error: 150.8204 - mean_absolute_error: 9.3676\n",
            "Epoch 00002: val_loss improved from 262.85806 to 174.57669, saving model to /content/drive/My Drive/Project/model_best_ResNet50_2.h5\n",
            "750/750 [==============================] - 140s 186ms/step - loss: 150.8204 - mean_squared_error: 150.8204 - mean_absolute_error: 9.3676 - val_loss: 174.5767 - val_mean_squared_error: 174.5767 - val_mean_absolute_error: 10.0161\n",
            "Epoch 3/40\n",
            "750/750 [==============================] - ETA: 0s - loss: 114.4205 - mean_squared_error: 114.4205 - mean_absolute_error: 7.9511\n",
            "Epoch 00003: val_loss improved from 174.57669 to 124.05522, saving model to /content/drive/My Drive/Project/model_best_ResNet50_2.h5\n",
            "750/750 [==============================] - 140s 186ms/step - loss: 114.4205 - mean_squared_error: 114.4205 - mean_absolute_error: 7.9511 - val_loss: 124.0552 - val_mean_squared_error: 124.0552 - val_mean_absolute_error: 8.4392\n",
            "Epoch 4/40\n",
            "750/750 [==============================] - ETA: 0s - loss: 89.9205 - mean_squared_error: 89.9205 - mean_absolute_error: 6.8586\n",
            "Epoch 00004: val_loss improved from 124.05522 to 103.40417, saving model to /content/drive/My Drive/Project/model_best_ResNet50_2.h5\n",
            "750/750 [==============================] - 140s 186ms/step - loss: 89.9205 - mean_squared_error: 89.9205 - mean_absolute_error: 6.8586 - val_loss: 103.4042 - val_mean_squared_error: 103.4042 - val_mean_absolute_error: 7.2280\n",
            "Epoch 5/40\n",
            "750/750 [==============================] - ETA: 0s - loss: 74.0317 - mean_squared_error: 74.0317 - mean_absolute_error: 6.0651\n",
            "Epoch 00005: val_loss improved from 103.40417 to 94.67318, saving model to /content/drive/My Drive/Project/model_best_ResNet50_2.h5\n",
            "750/750 [==============================] - 139s 186ms/step - loss: 74.0317 - mean_squared_error: 74.0317 - mean_absolute_error: 6.0651 - val_loss: 94.6732 - val_mean_squared_error: 94.6732 - val_mean_absolute_error: 6.9663\n",
            "Epoch 6/40\n",
            "750/750 [==============================] - ETA: 0s - loss: 62.9127 - mean_squared_error: 62.9127 - mean_absolute_error: 5.4799\n",
            "Epoch 00006: val_loss improved from 94.67318 to 84.71388, saving model to /content/drive/My Drive/Project/model_best_ResNet50_2.h5\n",
            "750/750 [==============================] - 139s 186ms/step - loss: 62.9127 - mean_squared_error: 62.9127 - mean_absolute_error: 5.4799 - val_loss: 84.7139 - val_mean_squared_error: 84.7139 - val_mean_absolute_error: 6.3862\n",
            "Epoch 7/40\n",
            "750/750 [==============================] - ETA: 0s - loss: 56.7179 - mean_squared_error: 56.7179 - mean_absolute_error: 5.1370\n",
            "Epoch 00007: val_loss improved from 84.71388 to 79.79647, saving model to /content/drive/My Drive/Project/model_best_ResNet50_2.h5\n",
            "750/750 [==============================] - 140s 187ms/step - loss: 56.7179 - mean_squared_error: 56.7179 - mean_absolute_error: 5.1370 - val_loss: 79.7965 - val_mean_squared_error: 79.7965 - val_mean_absolute_error: 6.0600\n",
            "Epoch 8/40\n",
            "750/750 [==============================] - ETA: 0s - loss: 50.4483 - mean_squared_error: 50.4483 - mean_absolute_error: 4.7900\n",
            "Epoch 00008: val_loss improved from 79.79647 to 76.15570, saving model to /content/drive/My Drive/Project/model_best_ResNet50_2.h5\n",
            "750/750 [==============================] - 140s 187ms/step - loss: 50.4483 - mean_squared_error: 50.4483 - mean_absolute_error: 4.7900 - val_loss: 76.1557 - val_mean_squared_error: 76.1557 - val_mean_absolute_error: 5.8328\n",
            "Epoch 9/40\n",
            "750/750 [==============================] - ETA: 0s - loss: 45.9163 - mean_squared_error: 45.9163 - mean_absolute_error: 4.5184\n",
            "Epoch 00009: val_loss did not improve from 76.15570\n",
            "750/750 [==============================] - 136s 182ms/step - loss: 45.9163 - mean_squared_error: 45.9163 - mean_absolute_error: 4.5184 - val_loss: 79.0181 - val_mean_squared_error: 79.0181 - val_mean_absolute_error: 6.1248\n",
            "Epoch 10/40\n",
            "750/750 [==============================] - ETA: 0s - loss: 42.4331 - mean_squared_error: 42.4331 - mean_absolute_error: 4.2973\n",
            "Epoch 00010: val_loss improved from 76.15570 to 69.86740, saving model to /content/drive/My Drive/Project/model_best_ResNet50_2.h5\n",
            "750/750 [==============================] - 140s 186ms/step - loss: 42.4331 - mean_squared_error: 42.4331 - mean_absolute_error: 4.2973 - val_loss: 69.8674 - val_mean_squared_error: 69.8674 - val_mean_absolute_error: 5.5459\n",
            "Epoch 11/40\n",
            "750/750 [==============================] - ETA: 0s - loss: 39.9659 - mean_squared_error: 39.9659 - mean_absolute_error: 4.1402\n",
            "Epoch 00011: val_loss did not improve from 69.86740\n",
            "750/750 [==============================] - 136s 181ms/step - loss: 39.9659 - mean_squared_error: 39.9659 - mean_absolute_error: 4.1402 - val_loss: 75.7540 - val_mean_squared_error: 75.7540 - val_mean_absolute_error: 5.8533\n",
            "Epoch 12/40\n",
            "750/750 [==============================] - ETA: 0s - loss: 37.3435 - mean_squared_error: 37.3435 - mean_absolute_error: 3.9627\n",
            "Epoch 00012: val_loss improved from 69.86740 to 64.65618, saving model to /content/drive/My Drive/Project/model_best_ResNet50_2.h5\n",
            "750/750 [==============================] - 139s 186ms/step - loss: 37.3435 - mean_squared_error: 37.3435 - mean_absolute_error: 3.9627 - val_loss: 64.6562 - val_mean_squared_error: 64.6562 - val_mean_absolute_error: 5.2520\n",
            "Epoch 13/40\n",
            "750/750 [==============================] - ETA: 0s - loss: 35.6429 - mean_squared_error: 35.6429 - mean_absolute_error: 3.8458\n",
            "Epoch 00013: val_loss did not improve from 64.65618\n",
            "750/750 [==============================] - 136s 182ms/step - loss: 35.6429 - mean_squared_error: 35.6429 - mean_absolute_error: 3.8458 - val_loss: 67.6866 - val_mean_squared_error: 67.6866 - val_mean_absolute_error: 5.3358\n",
            "Epoch 14/40\n",
            "750/750 [==============================] - ETA: 0s - loss: 33.3743 - mean_squared_error: 33.3743 - mean_absolute_error: 3.6950\n",
            "Epoch 00014: val_loss improved from 64.65618 to 62.21902, saving model to /content/drive/My Drive/Project/model_best_ResNet50_2.h5\n",
            "750/750 [==============================] - 140s 187ms/step - loss: 33.3743 - mean_squared_error: 33.3743 - mean_absolute_error: 3.6950 - val_loss: 62.2190 - val_mean_squared_error: 62.2190 - val_mean_absolute_error: 5.0786\n",
            "Epoch 15/40\n",
            "750/750 [==============================] - ETA: 0s - loss: 31.1649 - mean_squared_error: 31.1649 - mean_absolute_error: 3.5368\n",
            "Epoch 00015: val_loss improved from 62.21902 to 61.36297, saving model to /content/drive/My Drive/Project/model_best_ResNet50_2.h5\n",
            "750/750 [==============================] - 139s 186ms/step - loss: 31.1649 - mean_squared_error: 31.1649 - mean_absolute_error: 3.5368 - val_loss: 61.3630 - val_mean_squared_error: 61.3630 - val_mean_absolute_error: 4.9066\n",
            "Epoch 16/40\n",
            "750/750 [==============================] - ETA: 0s - loss: 29.3884 - mean_squared_error: 29.3884 - mean_absolute_error: 3.3927\n",
            "Epoch 00016: val_loss did not improve from 61.36297\n",
            "750/750 [==============================] - 136s 182ms/step - loss: 29.3884 - mean_squared_error: 29.3884 - mean_absolute_error: 3.3927 - val_loss: 64.4869 - val_mean_squared_error: 64.4869 - val_mean_absolute_error: 5.0567\n",
            "Epoch 17/40\n",
            "750/750 [==============================] - ETA: 0s - loss: 28.2317 - mean_squared_error: 28.2317 - mean_absolute_error: 3.3041\n",
            "Epoch 00017: val_loss improved from 61.36297 to 60.86837, saving model to /content/drive/My Drive/Project/model_best_ResNet50_2.h5\n",
            "750/750 [==============================] - 139s 186ms/step - loss: 28.2317 - mean_squared_error: 28.2317 - mean_absolute_error: 3.3041 - val_loss: 60.8684 - val_mean_squared_error: 60.8684 - val_mean_absolute_error: 4.9140\n",
            "Epoch 18/40\n",
            "750/750 [==============================] - ETA: 0s - loss: 28.2494 - mean_squared_error: 28.2494 - mean_absolute_error: 3.2861\n",
            "Epoch 00018: val_loss did not improve from 60.86837\n",
            "750/750 [==============================] - 136s 182ms/step - loss: 28.2494 - mean_squared_error: 28.2494 - mean_absolute_error: 3.2861 - val_loss: 66.3684 - val_mean_squared_error: 66.3684 - val_mean_absolute_error: 5.1986\n",
            "Epoch 19/40\n",
            "750/750 [==============================] - ETA: 0s - loss: 26.5471 - mean_squared_error: 26.5471 - mean_absolute_error: 3.1658\n",
            "Epoch 00019: val_loss improved from 60.86837 to 58.34777, saving model to /content/drive/My Drive/Project/model_best_ResNet50_2.h5\n",
            "750/750 [==============================] - 139s 186ms/step - loss: 26.5471 - mean_squared_error: 26.5471 - mean_absolute_error: 3.1658 - val_loss: 58.3478 - val_mean_squared_error: 58.3478 - val_mean_absolute_error: 4.6614\n",
            "Epoch 20/40\n",
            "750/750 [==============================] - ETA: 0s - loss: 24.8564 - mean_squared_error: 24.8564 - mean_absolute_error: 3.0060\n",
            "Epoch 00020: val_loss did not improve from 58.34777\n",
            "750/750 [==============================] - 136s 182ms/step - loss: 24.8564 - mean_squared_error: 24.8564 - mean_absolute_error: 3.0060 - val_loss: 58.8061 - val_mean_squared_error: 58.8061 - val_mean_absolute_error: 4.6936\n",
            "Epoch 21/40\n",
            "750/750 [==============================] - ETA: 0s - loss: 24.2889 - mean_squared_error: 24.2889 - mean_absolute_error: 2.9683\n",
            "Epoch 00021: val_loss did not improve from 58.34777\n",
            "750/750 [==============================] - 136s 182ms/step - loss: 24.2889 - mean_squared_error: 24.2889 - mean_absolute_error: 2.9683 - val_loss: 60.8364 - val_mean_squared_error: 60.8364 - val_mean_absolute_error: 4.8466\n",
            "Epoch 22/40\n",
            "750/750 [==============================] - ETA: 0s - loss: 24.6813 - mean_squared_error: 24.6813 - mean_absolute_error: 2.9853\n",
            "Epoch 00022: val_loss did not improve from 58.34777\n",
            "750/750 [==============================] - 136s 181ms/step - loss: 24.6813 - mean_squared_error: 24.6813 - mean_absolute_error: 2.9853 - val_loss: 61.5152 - val_mean_squared_error: 61.5152 - val_mean_absolute_error: 4.7959\n",
            "Epoch 23/40\n",
            "750/750 [==============================] - ETA: 0s - loss: 22.6157 - mean_squared_error: 22.6157 - mean_absolute_error: 2.8118\n",
            "Epoch 00023: val_loss did not improve from 58.34777\n",
            "750/750 [==============================] - 136s 182ms/step - loss: 22.6157 - mean_squared_error: 22.6157 - mean_absolute_error: 2.8118 - val_loss: 58.7142 - val_mean_squared_error: 58.7142 - val_mean_absolute_error: 4.5948\n",
            "Epoch 24/40\n",
            "750/750 [==============================] - ETA: 0s - loss: 21.6919 - mean_squared_error: 21.6919 - mean_absolute_error: 2.7212\n",
            "Epoch 00024: val_loss improved from 58.34777 to 57.65538, saving model to /content/drive/My Drive/Project/model_best_ResNet50_2.h5\n",
            "750/750 [==============================] - 139s 186ms/step - loss: 21.6919 - mean_squared_error: 21.6919 - mean_absolute_error: 2.7212 - val_loss: 57.6554 - val_mean_squared_error: 57.6554 - val_mean_absolute_error: 4.5347\n",
            "Epoch 25/40\n",
            "750/750 [==============================] - ETA: 0s - loss: 21.5549 - mean_squared_error: 21.5549 - mean_absolute_error: 2.7082\n",
            "Epoch 00025: val_loss did not improve from 57.65538\n",
            "750/750 [==============================] - 136s 181ms/step - loss: 21.5549 - mean_squared_error: 21.5549 - mean_absolute_error: 2.7082 - val_loss: 59.0408 - val_mean_squared_error: 59.0408 - val_mean_absolute_error: 4.5750\n",
            "Epoch 26/40\n",
            "750/750 [==============================] - ETA: 0s - loss: 21.4635 - mean_squared_error: 21.4635 - mean_absolute_error: 2.7083\n",
            "Epoch 00026: val_loss did not improve from 57.65538\n",
            "750/750 [==============================] - 136s 181ms/step - loss: 21.4635 - mean_squared_error: 21.4635 - mean_absolute_error: 2.7083 - val_loss: 60.0599 - val_mean_squared_error: 60.0599 - val_mean_absolute_error: 4.5689\n",
            "Epoch 27/40\n",
            "750/750 [==============================] - ETA: 0s - loss: 20.4588 - mean_squared_error: 20.4588 - mean_absolute_error: 2.6064\n",
            "Epoch 00027: val_loss did not improve from 57.65538\n",
            "750/750 [==============================] - 136s 181ms/step - loss: 20.4588 - mean_squared_error: 20.4588 - mean_absolute_error: 2.6064 - val_loss: 59.7364 - val_mean_squared_error: 59.7364 - val_mean_absolute_error: 4.4993\n",
            "Epoch 28/40\n",
            "750/750 [==============================] - ETA: 0s - loss: 20.1538 - mean_squared_error: 20.1538 - mean_absolute_error: 2.5801\n",
            "Epoch 00028: val_loss did not improve from 57.65538\n",
            "750/750 [==============================] - 136s 181ms/step - loss: 20.1538 - mean_squared_error: 20.1538 - mean_absolute_error: 2.5801 - val_loss: 62.3182 - val_mean_squared_error: 62.3182 - val_mean_absolute_error: 4.6687\n",
            "Epoch 29/40\n",
            "750/750 [==============================] - ETA: 0s - loss: 20.0535 - mean_squared_error: 20.0535 - mean_absolute_error: 2.5822\n",
            "Epoch 00029: val_loss did not improve from 57.65538\n",
            "750/750 [==============================] - 136s 181ms/step - loss: 20.0535 - mean_squared_error: 20.0535 - mean_absolute_error: 2.5822 - val_loss: 63.7197 - val_mean_squared_error: 63.7197 - val_mean_absolute_error: 4.6333\n",
            "Epoch 30/40\n",
            "750/750 [==============================] - ETA: 0s - loss: 20.0070 - mean_squared_error: 20.0070 - mean_absolute_error: 2.5701\n",
            "Epoch 00030: val_loss did not improve from 57.65538\n",
            "750/750 [==============================] - 136s 181ms/step - loss: 20.0070 - mean_squared_error: 20.0070 - mean_absolute_error: 2.5701 - val_loss: 60.5928 - val_mean_squared_error: 60.5928 - val_mean_absolute_error: 4.4820\n",
            "Epoch 31/40\n",
            "750/750 [==============================] - ETA: 0s - loss: 19.0515 - mean_squared_error: 19.0515 - mean_absolute_error: 2.4716\n",
            "Epoch 00031: val_loss did not improve from 57.65538\n",
            "750/750 [==============================] - 136s 181ms/step - loss: 19.0515 - mean_squared_error: 19.0515 - mean_absolute_error: 2.4716 - val_loss: 63.3692 - val_mean_squared_error: 63.3692 - val_mean_absolute_error: 4.6195\n",
            "Epoch 32/40\n",
            "750/750 [==============================] - ETA: 0s - loss: 18.4194 - mean_squared_error: 18.4194 - mean_absolute_error: 2.4122\n",
            "Epoch 00032: val_loss did not improve from 57.65538\n",
            "750/750 [==============================] - 136s 182ms/step - loss: 18.4194 - mean_squared_error: 18.4194 - mean_absolute_error: 2.4122 - val_loss: 62.0584 - val_mean_squared_error: 62.0584 - val_mean_absolute_error: 4.6237\n",
            "Epoch 33/40\n",
            "750/750 [==============================] - ETA: 0s - loss: 18.2293 - mean_squared_error: 18.2293 - mean_absolute_error: 2.3803\n",
            "Epoch 00033: val_loss did not improve from 57.65538\n",
            "750/750 [==============================] - 136s 182ms/step - loss: 18.2293 - mean_squared_error: 18.2293 - mean_absolute_error: 2.3803 - val_loss: 62.8738 - val_mean_squared_error: 62.8738 - val_mean_absolute_error: 4.6040\n",
            "Epoch 34/40\n",
            "750/750 [==============================] - ETA: 0s - loss: 18.1554 - mean_squared_error: 18.1554 - mean_absolute_error: 2.3599\n",
            "Epoch 00034: val_loss did not improve from 57.65538\n",
            "750/750 [==============================] - 136s 182ms/step - loss: 18.1554 - mean_squared_error: 18.1554 - mean_absolute_error: 2.3599 - val_loss: 61.4859 - val_mean_squared_error: 61.4859 - val_mean_absolute_error: 4.5511\n",
            "Epoch 35/40\n",
            "750/750 [==============================] - ETA: 0s - loss: 18.1450 - mean_squared_error: 18.1450 - mean_absolute_error: 2.3786\n",
            "Epoch 00035: val_loss did not improve from 57.65538\n",
            "750/750 [==============================] - 136s 182ms/step - loss: 18.1450 - mean_squared_error: 18.1450 - mean_absolute_error: 2.3786 - val_loss: 63.8035 - val_mean_squared_error: 63.8035 - val_mean_absolute_error: 4.5878\n",
            "Epoch 36/40\n",
            "750/750 [==============================] - ETA: 0s - loss: 17.1997 - mean_squared_error: 17.1997 - mean_absolute_error: 2.2650\n",
            "Epoch 00036: val_loss did not improve from 57.65538\n",
            "750/750 [==============================] - 136s 182ms/step - loss: 17.1997 - mean_squared_error: 17.1997 - mean_absolute_error: 2.2650 - val_loss: 61.5463 - val_mean_squared_error: 61.5463 - val_mean_absolute_error: 4.4438\n",
            "Epoch 37/40\n",
            "750/750 [==============================] - ETA: 0s - loss: 16.9562 - mean_squared_error: 16.9562 - mean_absolute_error: 2.2469\n",
            "Epoch 00037: val_loss did not improve from 57.65538\n",
            "750/750 [==============================] - 136s 182ms/step - loss: 16.9562 - mean_squared_error: 16.9562 - mean_absolute_error: 2.2469 - val_loss: 62.0495 - val_mean_squared_error: 62.0495 - val_mean_absolute_error: 4.5241\n",
            "Epoch 38/40\n",
            "750/750 [==============================] - ETA: 0s - loss: 16.8878 - mean_squared_error: 16.8878 - mean_absolute_error: 2.2324\n",
            "Epoch 00038: val_loss did not improve from 57.65538\n",
            "750/750 [==============================] - 136s 182ms/step - loss: 16.8878 - mean_squared_error: 16.8878 - mean_absolute_error: 2.2324 - val_loss: 61.9067 - val_mean_squared_error: 61.9067 - val_mean_absolute_error: 4.4648\n",
            "Epoch 39/40\n",
            "750/750 [==============================] - ETA: 0s - loss: 16.8302 - mean_squared_error: 16.8302 - mean_absolute_error: 2.2377\n",
            "Epoch 00039: val_loss did not improve from 57.65538\n",
            "750/750 [==============================] - 136s 182ms/step - loss: 16.8302 - mean_squared_error: 16.8302 - mean_absolute_error: 2.2377 - val_loss: 63.7670 - val_mean_squared_error: 63.7670 - val_mean_absolute_error: 4.5918\n",
            "Epoch 40/40\n",
            "750/750 [==============================] - ETA: 0s - loss: 16.9940 - mean_squared_error: 16.9940 - mean_absolute_error: 2.2604\n",
            "Epoch 00040: val_loss did not improve from 57.65538\n",
            "750/750 [==============================] - 136s 182ms/step - loss: 16.9940 - mean_squared_error: 16.9940 - mean_absolute_error: 2.2604 - val_loss: 63.4750 - val_mean_squared_error: 63.4750 - val_mean_absolute_error: 4.5197\n"
          ],
          "name": "stdout"
        }
      ]
    },
    {
      "cell_type": "code",
      "metadata": {
        "id": "RiTNroc2Y3D1",
        "colab_type": "code",
        "colab": {}
      },
      "source": [
        "np.save('/content/drive/My Drive/Project/model_best_ResNet50_2.npy',mod_rec50_2.history)"
      ],
      "execution_count": null,
      "outputs": []
    },
    {
      "cell_type": "code",
      "metadata": {
        "id": "W2R-2XDdCx9B",
        "colab_type": "code",
        "colab": {}
      },
      "source": [
        "model_2.save('/content/drive/My Drive/Project/model_epoch10_batchsize128_ResNet50.h5')"
      ],
      "execution_count": null,
      "outputs": []
    },
    {
      "cell_type": "code",
      "metadata": {
        "id": "UopYUCOFFapo",
        "colab_type": "code",
        "colab": {}
      },
      "source": [
        "base_model_3 = applications.ResNet152(\n",
        "    include_top=False,\n",
        "    weights=None,\n",
        "    input_shape=(101,101,1),\n",
        "    pooling=None,  \n",
        ")\n",
        "x_3 = base_model_3.output\n",
        "x_3 = Flatten()(x_3)\n",
        "predictions_3 = Dense(1)(x_3)\n",
        "model_3 = Model(inputs = base_model_3.input, outputs = predictions_3)\n",
        "\n",
        "opt3 = keras.optimizers.Adam()\n",
        "model_3.compile(loss='mean_squared_error', optimizer=opt3,metrics=[metrics.mse,metrics.mae])\n",
        "#model.summary()"
      ],
      "execution_count": null,
      "outputs": []
    },
    {
      "cell_type": "code",
      "metadata": {
        "id": "3flQXB-QFhHR",
        "colab_type": "code",
        "colab": {
          "base_uri": "https://localhost:8080/",
          "height": 877
        },
        "outputId": "476eb567-ed9b-4fb5-ccfc-cd3b78013832"
      },
      "source": [
        "mod_rec50_3 = model_3.fit(X_train,y_train,batch_size=128,epochs=25,validation_split=0.2)"
      ],
      "execution_count": null,
      "outputs": [
        {
          "output_type": "stream",
          "text": [
            "Epoch 1/25\n",
            "750/750 [==============================] - 327s 436ms/step - loss: 229.7443 - mean_squared_error: 229.7443 - mean_absolute_error: 11.8675 - val_loss: 276.8136 - val_mean_squared_error: 276.8136 - val_mean_absolute_error: 14.0528\n",
            "Epoch 2/25\n",
            "750/750 [==============================] - 325s 433ms/step - loss: 177.7192 - mean_squared_error: 177.7192 - mean_absolute_error: 10.2499 - val_loss: 756.1612 - val_mean_squared_error: 756.1612 - val_mean_absolute_error: 16.5760\n",
            "Epoch 3/25\n",
            "750/750 [==============================] - 324s 433ms/step - loss: 143.7924 - mean_squared_error: 143.7924 - mean_absolute_error: 9.0312 - val_loss: 1263.6245 - val_mean_squared_error: 1263.6245 - val_mean_absolute_error: 19.2267\n",
            "Epoch 4/25\n",
            "750/750 [==============================] - 324s 433ms/step - loss: 117.8854 - mean_squared_error: 117.8854 - mean_absolute_error: 8.0105 - val_loss: 184.2983 - val_mean_squared_error: 184.2983 - val_mean_absolute_error: 8.5720\n",
            "Epoch 5/25\n",
            "750/750 [==============================] - 324s 432ms/step - loss: 98.7895 - mean_squared_error: 98.7895 - mean_absolute_error: 7.1832 - val_loss: 1833.3105 - val_mean_squared_error: 1833.3105 - val_mean_absolute_error: 13.0148\n",
            "Epoch 6/25\n",
            "750/750 [==============================] - 324s 432ms/step - loss: 84.5538 - mean_squared_error: 84.5538 - mean_absolute_error: 6.5266 - val_loss: 200.0425 - val_mean_squared_error: 200.0425 - val_mean_absolute_error: 8.3402\n",
            "Epoch 7/25\n",
            "750/750 [==============================] - 325s 433ms/step - loss: 74.7445 - mean_squared_error: 74.7445 - mean_absolute_error: 6.0542 - val_loss: 207443.8125 - val_mean_squared_error: 207443.8125 - val_mean_absolute_error: 59.1469\n",
            "Epoch 8/25\n",
            "750/750 [==============================] - 325s 433ms/step - loss: 66.9263 - mean_squared_error: 66.9263 - mean_absolute_error: 5.6751 - val_loss: 118.7769 - val_mean_squared_error: 118.7769 - val_mean_absolute_error: 7.1701\n",
            "Epoch 9/25\n",
            "750/750 [==============================] - 325s 433ms/step - loss: 60.7816 - mean_squared_error: 60.7816 - mean_absolute_error: 5.3421 - val_loss: 342.7685 - val_mean_squared_error: 342.7685 - val_mean_absolute_error: 7.8639\n",
            "Epoch 10/25\n",
            "750/750 [==============================] - 325s 433ms/step - loss: 57.4720 - mean_squared_error: 57.4720 - mean_absolute_error: 5.1505 - val_loss: 72.0831 - val_mean_squared_error: 72.0831 - val_mean_absolute_error: 5.9122\n",
            "Epoch 11/25\n",
            "750/750 [==============================] - 324s 432ms/step - loss: 52.1146 - mean_squared_error: 52.1146 - mean_absolute_error: 4.8611 - val_loss: 171.0684 - val_mean_squared_error: 171.0684 - val_mean_absolute_error: 6.6561\n",
            "Epoch 12/25\n",
            "750/750 [==============================] - 324s 433ms/step - loss: 49.6174 - mean_squared_error: 49.6174 - mean_absolute_error: 4.7139 - val_loss: 311305.9062 - val_mean_squared_error: 311305.9062 - val_mean_absolute_error: 93.6799\n",
            "Epoch 13/25\n",
            "750/750 [==============================] - 324s 432ms/step - loss: 49.2647 - mean_squared_error: 49.2647 - mean_absolute_error: 4.6747 - val_loss: 487.3410 - val_mean_squared_error: 487.3410 - val_mean_absolute_error: 6.5010\n",
            "Epoch 14/25\n",
            "750/750 [==============================] - 325s 433ms/step - loss: 46.5809 - mean_squared_error: 46.5809 - mean_absolute_error: 4.5359 - val_loss: 14697.5801 - val_mean_squared_error: 14697.5801 - val_mean_absolute_error: 24.3569\n",
            "Epoch 15/25\n",
            "750/750 [==============================] - 325s 433ms/step - loss: 42.4271 - mean_squared_error: 42.4271 - mean_absolute_error: 4.2818 - val_loss: 1585.5428 - val_mean_squared_error: 1585.5428 - val_mean_absolute_error: 7.5489\n",
            "Epoch 16/25\n",
            "750/750 [==============================] - 325s 433ms/step - loss: 40.3157 - mean_squared_error: 40.3157 - mean_absolute_error: 4.1440 - val_loss: 3034.2759 - val_mean_squared_error: 3034.2759 - val_mean_absolute_error: 8.9090\n",
            "Epoch 17/25\n",
            "750/750 [==============================] - 325s 433ms/step - loss: 37.3054 - mean_squared_error: 37.3054 - mean_absolute_error: 3.9524 - val_loss: 12998.8203 - val_mean_squared_error: 12998.8203 - val_mean_absolute_error: 18.1652\n",
            "Epoch 18/25\n",
            "750/750 [==============================] - 325s 433ms/step - loss: 36.9867 - mean_squared_error: 36.9867 - mean_absolute_error: 3.9425 - val_loss: 80.3749 - val_mean_squared_error: 80.3749 - val_mean_absolute_error: 5.2001\n",
            "Epoch 19/25\n",
            "750/750 [==============================] - 325s 434ms/step - loss: 31.8243 - mean_squared_error: 31.8243 - mean_absolute_error: 3.5830 - val_loss: 57.9467 - val_mean_squared_error: 57.9467 - val_mean_absolute_error: 4.9243\n",
            "Epoch 20/25\n",
            "750/750 [==============================] - 326s 434ms/step - loss: 30.4899 - mean_squared_error: 30.4899 - mean_absolute_error: 3.4838 - val_loss: 91.7031 - val_mean_squared_error: 91.7031 - val_mean_absolute_error: 5.4139\n",
            "Epoch 21/25\n",
            "750/750 [==============================] - 326s 435ms/step - loss: 31.2279 - mean_squared_error: 31.2279 - mean_absolute_error: 3.5282 - val_loss: 66.3946 - val_mean_squared_error: 66.3946 - val_mean_absolute_error: 5.0466\n",
            "Epoch 22/25\n",
            "750/750 [==============================] - 326s 435ms/step - loss: 28.7043 - mean_squared_error: 28.7043 - mean_absolute_error: 3.3568 - val_loss: 56.5835 - val_mean_squared_error: 56.5835 - val_mean_absolute_error: 4.7503\n",
            "Epoch 23/25\n",
            "750/750 [==============================] - 326s 435ms/step - loss: 27.9598 - mean_squared_error: 27.9598 - mean_absolute_error: 3.2855 - val_loss: 639.0394 - val_mean_squared_error: 639.0394 - val_mean_absolute_error: 6.5498\n",
            "Epoch 24/25\n",
            "750/750 [==============================] - 326s 435ms/step - loss: 27.2478 - mean_squared_error: 27.2478 - mean_absolute_error: 3.2466 - val_loss: 75.4852 - val_mean_squared_error: 75.4852 - val_mean_absolute_error: 5.4780\n",
            "Epoch 25/25\n",
            "750/750 [==============================] - 326s 435ms/step - loss: 28.9151 - mean_squared_error: 28.9151 - mean_absolute_error: 3.3624 - val_loss: 69.0070 - val_mean_squared_error: 69.0070 - val_mean_absolute_error: 4.8672\n"
          ],
          "name": "stdout"
        }
      ]
    },
    {
      "cell_type": "code",
      "metadata": {
        "id": "3rduiKHCyhbE",
        "colab_type": "code",
        "colab": {}
      },
      "source": [
        "np.save('/content/drive/My Drive/Project/model_epoch20_batchsize16_ResNet152.npy',mod_rec50_3.history)"
      ],
      "execution_count": null,
      "outputs": []
    },
    {
      "cell_type": "code",
      "metadata": {
        "id": "fNtzYyS0lRCn",
        "colab_type": "code",
        "colab": {
          "base_uri": "https://localhost:8080/",
          "height": 34
        },
        "outputId": "cfc62eac-503f-4626-d6fa-e16fa5082562"
      },
      "source": [
        "mod_rec50_3.history.keys()"
      ],
      "execution_count": null,
      "outputs": [
        {
          "output_type": "execute_result",
          "data": {
            "text/plain": [
              "dict_keys(['loss', 'mean_squared_error', 'mean_absolute_error', 'val_loss', 'val_mean_squared_error', 'val_mean_absolute_error'])"
            ]
          },
          "metadata": {
            "tags": []
          },
          "execution_count": 26
        }
      ]
    },
    {
      "cell_type": "code",
      "metadata": {
        "id": "98sHZgQPpy0-",
        "colab_type": "code",
        "colab": {}
      },
      "source": [
        "model_3.save('/content/drive/My Drive/Project/model_epoch40_batchsize128_ResNet50.h5')"
      ],
      "execution_count": null,
      "outputs": []
    },
    {
      "cell_type": "code",
      "metadata": {
        "id": "f9hL0_1IDuL-",
        "colab_type": "code",
        "colab": {}
      },
      "source": [
        "    mse         = mod_rec50_3.history['mean_squared_error']\n",
        "    mae         = mod_rec50_3.history['mean_absolute_error']\n",
        "    val_mse     = mod_rec50_3.history['val_mean_squared_error']\n",
        "    val_mae     = mod_rec50_3.history['val_mean_absolute_error']\n",
        "    epochs       = range(len(mse))\n",
        "    nb_epochs    = len(epochs)"
      ],
      "execution_count": null,
      "outputs": []
    },
    {
      "cell_type": "code",
      "metadata": {
        "id": "HEgGO4ESXsVd",
        "colab_type": "code",
        "colab": {}
      },
      "source": [
        "import matplotlib.pyplot as plt\n"
      ],
      "execution_count": null,
      "outputs": []
    },
    {
      "cell_type": "code",
      "metadata": {
        "id": "Mfs1-GvxXggw",
        "colab_type": "code",
        "colab": {
          "base_uri": "https://localhost:8080/",
          "height": 281
        },
        "outputId": "2ad1ef22-b7a9-4b0f-906b-85d5f1cf60f8"
      },
      "source": [
        "    f2 = plt.figure(2)\n",
        "\n",
        "    #plt.axis((0,nb_epochs,0,1.2))\n",
        "    plt.plot(epochs, mse, 'ro', label='Training MSE')\n",
        "    #plt.plot(epochs, mae, 'r--', label='Training MAE')\n",
        "    plt.plot(epochs, val_mse, 'g-', label='Validation MSE')\n",
        "    #plt.plot(epochs, val_mae, 'g^', label='Validation MAE')\n",
        "    plt.title('Training and validation MSE')\n",
        "    plt.legend()\n",
        "    #plt.draw()\n",
        "    plt.pause(0.001)\n",
        "    plt.show()"
      ],
      "execution_count": null,
      "outputs": [
        {
          "output_type": "display_data",
          "data": {
            "image/png": "[encoded data removed]",
            "text/plain": [
              "<Figure size 432x288 with 1 Axes>"
            ]
          },
          "metadata": {
            "tags": [],
            "needs_background": "light"
          }
        }
      ]
    },
    {
      "cell_type": "code",
      "metadata": {
        "id": "iy3C16z148e0",
        "colab_type": "code",
        "colab": {}
      },
      "source": [
        "X_test = np.load('/content/drive/My Drive/Project/test_img_forCNN.npy')\n",
        "y_t = np.load('/content/drive/My Drive/Project/test_label_forCNN.npy')\n",
        "#X_test = X_test[:,:,3,:]\n",
        "y_test = []\n",
        "for i in range(len(y_t)):\n",
        "  for j in range(15):\n",
        "    y_test.append(y_t[i])\n",
        "del y_t\n",
        "y_test = np.array(y_test)\n"
      ],
      "execution_count": null,
      "outputs": []
    },
    {
      "cell_type": "code",
      "metadata": {
        "id": "1QlWT536tZvO",
        "colab_type": "code",
        "colab": {
          "base_uri": "https://localhost:8080/",
          "height": 34
        },
        "outputId": "38213881-2f62-43de-849a-f276b44d064a"
      },
      "source": [
        "X_test.shape"
      ],
      "execution_count": null,
      "outputs": [
        {
          "output_type": "execute_result",
          "data": {
            "text/plain": [
              "(2000, 15, 101, 101)"
            ]
          },
          "metadata": {
            "tags": []
          },
          "execution_count": 7
        }
      ]
    },
    {
      "cell_type": "code",
      "metadata": {
        "id": "ioWZBhih5sWv",
        "colab_type": "code",
        "colab": {}
      },
      "source": [
        "X_test =X_test.reshape(30000,101,101,1)"
      ],
      "execution_count": null,
      "outputs": []
    },
    {
      "cell_type": "code",
      "metadata": {
        "id": "xo1-GAZ_56OZ",
        "colab_type": "code",
        "colab": {
          "base_uri": "https://localhost:8080/",
          "height": 50
        },
        "outputId": "b03d3ea7-0c5c-4b19-daca-300ebdd6c9bc"
      },
      "source": [
        "ev = model.evaluate(X_test,y_test)\n",
        "ev"
      ],
      "execution_count": null,
      "outputs": [
        {
          "output_type": "stream",
          "text": [
            "938/938 [==============================] - 31s 33ms/step - loss: 130.2773 - mean_squared_error: 130.2773 - mean_absolute_error: 7.3952\n"
          ],
          "name": "stdout"
        },
        {
          "output_type": "execute_result",
          "data": {
            "text/plain": [
              "[130.27731323242188, 130.27731323242188, 7.395173072814941]"
            ]
          },
          "metadata": {
            "tags": []
          },
          "execution_count": 32
        }
      ]
    },
    {
      "cell_type": "code",
      "metadata": {
        "id": "Focx3TzuPi9Y",
        "colab_type": "code",
        "colab": {
          "base_uri": "https://localhost:8080/",
          "height": 50
        },
        "outputId": "34661680-4a02-4949-8ec1-ea6cf8dd477d"
      },
      "source": [
        "ev2 = model_2.evaluate(X_test,y_test)\n",
        "ev2"
      ],
      "execution_count": null,
      "outputs": [
        {
          "output_type": "stream",
          "text": [
            "938/938 [==============================] - 18s 19ms/step - loss: 130.5832 - mean_squared_error: 130.5832 - mean_absolute_error: 7.5437\n"
          ],
          "name": "stdout"
        },
        {
          "output_type": "execute_result",
          "data": {
            "text/plain": [
              "[130.58322143554688, 130.58322143554688, 7.543656349182129]"
            ]
          },
          "metadata": {
            "tags": []
          },
          "execution_count": 19
        }
      ]
    },
    {
      "cell_type": "code",
      "metadata": {
        "id": "qxduhw4VoAe_",
        "colab_type": "code",
        "colab": {
          "base_uri": "https://localhost:8080/",
          "height": 50
        },
        "outputId": "6b4af1d7-6ac8-4ee0-bfa4-a8f311a31cb8"
      },
      "source": [
        "ev3 = model_3.evaluate(X_test,y_test)\n",
        "ev3"
      ],
      "execution_count": null,
      "outputs": [
        {
          "output_type": "stream",
          "text": [
            "938/938 [==============================] - 43s 46ms/step - loss: 132.4105 - mean_squared_error: 132.4105 - mean_absolute_error: 7.3898\n"
          ],
          "name": "stdout"
        },
        {
          "output_type": "execute_result",
          "data": {
            "text/plain": [
              "[132.41049194335938, 132.41049194335938, 7.389822006225586]"
            ]
          },
          "metadata": {
            "tags": []
          },
          "execution_count": 33
        }
      ]
    },
    {
      "cell_type": "code",
      "metadata": {
        "id": "Q1xJ2Rk1UoFU",
        "colab_type": "code",
        "colab": {}
      },
      "source": [
        "test_mse = ev2[1]\n",
        "test_mae = ev2[2]"
      ],
      "execution_count": null,
      "outputs": []
    },
    {
      "cell_type": "code",
      "metadata": {
        "id": "23BdNNFvUw8-",
        "colab_type": "code",
        "colab": {}
      },
      "source": [
        ""
      ],
      "execution_count": null,
      "outputs": []
    },
    {
      "cell_type": "code",
      "metadata": {
        "id": "DYOzilahPnVb",
        "colab_type": "code",
        "colab": {
          "base_uri": "https://localhost:8080/",
          "height": 34
        },
        "outputId": "20a96b3c-6f71-415c-bc58-a7d5f574ecb1"
      },
      "source": [
        "model.predict(X_test[99].reshape(1,101,101,1))"
      ],
      "execution_count": null,
      "outputs": [
        {
          "output_type": "execute_result",
          "data": {
            "text/plain": [
              "array([[4.238598]], dtype=float32)"
            ]
          },
          "metadata": {
            "tags": []
          },
          "execution_count": 26
        }
      ]
    },
    {
      "cell_type": "code",
      "metadata": {
        "id": "leDxl1fjPmfw",
        "colab_type": "code",
        "colab": {
          "base_uri": "https://localhost:8080/",
          "height": 34
        },
        "outputId": "53c7a666-95ab-4b54-cb31-4f4496edd36b"
      },
      "source": [
        "len(X_test)"
      ],
      "execution_count": null,
      "outputs": [
        {
          "output_type": "execute_result",
          "data": {
            "text/plain": [
              "30000"
            ]
          },
          "metadata": {
            "tags": []
          },
          "execution_count": 54
        }
      ]
    },
    {
      "cell_type": "code",
      "metadata": {
        "id": "RaFvbpzak9GP",
        "colab_type": "code",
        "colab": {}
      },
      "source": [
        "    val_mse1     = mod_rec50.history['val_mean_squared_error']\n",
        "    val_mae1     = mod_rec50.history['val_mean_absolute_error']\n",
        "    epochs1        = range(len(val_mse1))\n",
        "    nb_epochs1    = len(epochs1)\n",
        "    val_mse2     = mod_rec50_2.history['val_mean_squared_error']\n",
        "    val_mae2     = mod_rec50_2.history['val_mean_absolute_error']\n",
        "    epochs2       = range(len(val_mse2))\n",
        "    nb_epochs2    = len(epochs2)\n",
        "    val_mse3     = mod_rec50_3.history['val_mean_squared_error']\n",
        "    val_mae3     = mod_rec50_3.history['val_mean_absolute_error']\n",
        "    epochs3       = range(len(val_mse3))\n",
        "    nb_epochs3    = len(epochs3)"
      ],
      "execution_count": null,
      "outputs": []
    },
    {
      "cell_type": "code",
      "metadata": {
        "id": "Op4vt9tIqsRZ",
        "colab_type": "code",
        "colab": {
          "base_uri": "https://localhost:8080/",
          "height": 281
        },
        "outputId": "b1c05d43-3bab-4704-e365-4cd72876af73"
      },
      "source": [
        "    f1 = plt.figure(1)\n",
        "    #epochs = range(0,20)\n",
        "    #plt.axis((0,nb_epochs3,0,1.2))\n",
        "    plt.xticks(np.arange(0,20,5))\n",
        "    plt.plot(epochs1, val_mae1, 'ro', label='Adadelta')\n",
        "    plt.plot(epochs2, val_mae2, 'g^', label='Adam')\n",
        "    plt.plot(epochs3, val_mae3, 'g-', label='SGD')\n",
        "    #plt.plot(epochs, resnet152_mae, 'g^', label='resnet152_mae')\n",
        "    plt.title('MAEs of ResNet50 with Different Optimizers ')\n",
        "    plt.legend()\n",
        "    #plt.draw()\n",
        "    plt.pause(0.001)\n",
        "    plt.show()"
      ],
      "execution_count": null,
      "outputs": [
        {
          "output_type": "display_data",
          "data": {
            "image/png": "[encoded data removed]",
            "text/plain": [
              "<Figure size 432x288 with 1 Axes>"
            ]
          },
          "metadata": {
            "tags": [],
            "needs_background": "light"
          }
        }
      ]
    },
    {
      "cell_type": "code",
      "metadata": {
        "id": "Yo8J6obc420G",
        "colab_type": "code",
        "colab": {}
      },
      "source": [
        "model4 = load_model('/content/drive/My Drive/Project/model_best_ResNet50_2.h5')"
      ],
      "execution_count": null,
      "outputs": []
    },
    {
      "cell_type": "code",
      "metadata": {
        "id": "XLBGIIYIW5Bh",
        "colab_type": "code",
        "colab": {
          "base_uri": "https://localhost:8080/",
          "height": 50
        },
        "outputId": "c078a029-6848-4a6f-b5cb-3b5a49187132"
      },
      "source": [
        "ev4 = model4.evaluate(X_test,y_test)\n",
        "ev4"
      ],
      "execution_count": null,
      "outputs": [
        {
          "output_type": "stream",
          "text": [
            "938/938 [==============================] - 18s 19ms/step - loss: 123.3314 - mean_squared_error: 123.3314 - mean_absolute_error: 7.2625\n"
          ],
          "name": "stdout"
        },
        {
          "output_type": "execute_result",
          "data": {
            "text/plain": [
              "[123.3314437866211, 123.3314437866211, 7.262516498565674]"
            ]
          },
          "metadata": {
            "tags": []
          },
          "execution_count": 18
        }
      ]
    },
    {
      "cell_type": "code",
      "metadata": {
        "id": "4qQouvTEYwkD",
        "colab_type": "code",
        "colab": {}
      },
      "source": [
        "model5 = load_model('/content/drive/My Drive/Project/model_best_ResNet50_2.h5')"
      ],
      "execution_count": null,
      "outputs": []
    },
    {
      "cell_type": "code",
      "metadata": {
        "id": "NUIuS7DYSd1M",
        "colab_type": "code",
        "colab": {}
      },
      "source": [
        "mseaaaaa= [123.3314437866211,130.27731323242188,132.4104919433593,147.71649169921875]\n",
        "maeaaaaa= [7.262516498565674,7.39517307281494,7.389822006225586,8.949355125427246]"
      ],
      "execution_count": null,
      "outputs": []
    },
    {
      "cell_type": "code",
      "metadata": {
        "id": "wX1I8QRwTHwf",
        "colab_type": "code",
        "colab": {
          "base_uri": "https://localhost:8080/",
          "height": 265
        },
        "outputId": "0aed6b6b-5ad6-44e9-c59e-1570114d5680"
      },
      "source": [
        "f9=plt.figure()\n",
        "plt.bar(range(4),mseaaaaa,tick_label=['ResNet50','ResNet101','ResNet152','ConvLSTM'])\n",
        "plt.show()"
      ],
      "execution_count": null,
      "outputs": [
        {
          "output_type": "display_data",
          "data": {
            "image/png": "[encoded data removed]",
            "text/plain": [
              "<Figure size 432x288 with 1 Axes>"
            ]
          },
          "metadata": {
            "tags": [],
            "needs_background": "light"
          }
        }
      ]
    },
    {
      "cell_type": "code",
      "metadata": {
        "id": "yb-qw5Y5TPvM",
        "colab_type": "code",
        "colab": {
          "base_uri": "https://localhost:8080/",
          "height": 265
        },
        "outputId": "b356e26f-c636-4b5b-8af4-5c212fa77baf"
      },
      "source": [
        "f9=plt.figure()\n",
        "plt.bar(range(4),maeaaaaa,tick_label=['ResNet50','ResNet101','ResNet152','ConvLSTM'])\n",
        "plt.show()"
      ],
      "execution_count": null,
      "outputs": [
        {
          "output_type": "display_data",
          "data": {
            "image/png": "[encoded data removed]",
            "text/plain": [
              "<Figure size 432x288 with 1 Axes>"
            ]
          },
          "metadata": {
            "tags": [],
            "needs_background": "light"
          }
        }
      ]
    }
  ]
}